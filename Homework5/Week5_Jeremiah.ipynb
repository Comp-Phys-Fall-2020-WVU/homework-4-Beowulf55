{
  "nbformat": 4,
  "nbformat_minor": 0,
  "metadata": {
    "colab": {
      "name": "Week5.ipynb",
      "provenance": [],
      "collapsed_sections": []
    },
    "kernelspec": {
      "name": "python3",
      "display_name": "Python 3"
    }
  },
  "cells": [
    {
      "cell_type": "markdown",
      "metadata": {
        "id": "L4XfdWTDGPgx"
      },
      "source": [
        "# Week Five: Integration and differentiation\n",
        "\n",
        "To be graded, your notebook must be runnable start to finish. If you can't make an in-notebook test pass, comment it out for to attempt to get partial credit. You should replace the `...` markers with your code. Do not change the names of the pre-defined ALL_CAPS variables and functions. (If you start from scratch, make sure you match the requested function names and requested ALL_CAPS variables). Other that that, you are free to define or make anything you wish. Remember that functions will often be tested with different numbers than the ones you are given."
      ]
    },
    {
      "cell_type": "code",
      "metadata": {
        "id": "ERw1MUMtGPgy"
      },
      "source": [
        "# EID is your 6+2 UC Electronic ID\n",
        "EID = '00152908'\n",
        "NAME = 'Jeremiah Scarborough'"
      ],
      "execution_count": 385,
      "outputs": []
    },
    {
      "cell_type": "code",
      "metadata": {
        "id": "kyUTgglTGPg0"
      },
      "source": [
        "%matplotlib inline\n",
        "import numpy as np\n",
        "import matplotlib.pyplot as plt"
      ],
      "execution_count": 386,
      "outputs": []
    },
    {
      "cell_type": "markdown",
      "metadata": {
        "id": "QIA_ktdiGPg2"
      },
      "source": [
        "# Problem 1: 2D Trapezoidal rule\n",
        "\n",
        "You can extend the trapezoidal rule to 2D. I'll give you a few hints:\n",
        "\n",
        "The weight matrix is:\n",
        "$$\n",
        "W_{ij} = \\begin{matrix}\n",
        "1 & 2 & 2 & \\cdots & 2 & 2 & 1 \\\\\n",
        "2 & 4 & 4 & \\cdots & 4 & 4 & 2 \\\\\n",
        "2 & 4 & 4 & \\cdots & 4 & 4 & 2 \\\\\n",
        "\\vdots & \\vdots & \\vdots & \\ddots & \\vdots & \\vdots & \\vdots \\\\\n",
        "2 & 4 & 4 & \\cdots & 4 & 4 & 2 \\\\\n",
        "2 & 4 & 4 & \\cdots & 4 & 4 & 2 \\\\\n",
        "1 & 2 & 2 & \\cdots & 2 & 2 & 1\n",
        "\\end{matrix}\n",
        "$$\n",
        "\n",
        "If you use the trick I used in the slides instead of explicitly creating this matrix, you would split the sum into 4 parts. However, it's really quite easy to make the matrix above\n",
        "\n",
        "The \"bin\" width $h$ is joined by the 2nd dimension bin width of $k$, and then the trapezoidal rule integral value is \n",
        "\n",
        "$$\n",
        "I_\\mathrm{tr} = \\frac{1}{4} h k \\sum_i \\sum_j W_{ij} f(x_{i}, y_{j})\n",
        "$$"
      ]
    },
    {
      "cell_type": "markdown",
      "metadata": {
        "id": "SlsVT5E3GPg3"
      },
      "source": [
        "Write a function that takes a 2-parameter function 'f' and integrates it with the given parameters (further explanations are built into the docstring of the function). I'm writing a Numpy-style docstring.\n",
        "\n",
        "See also: <http://mathfaculty.fullerton.edu/mathews/n2003/SimpsonsRule2DMod.html>"
      ]
    },
    {
      "cell_type": "code",
      "metadata": {
        "id": "crjW6X_QGPg3"
      },
      "source": [
        "import numpy as np\n",
        "def trap_2d(f, xrange, yrange, xN, yN):\n",
        "    '''Integrate a 2D function with the trapezoidal rule.\n",
        "    \n",
        "    This takes a 2D function and integrates it over a 2D grid.\n",
        "    This uses the Trapezoidal rule in 2D.\n",
        "    \n",
        "    Parameters\n",
        "    ----------\n",
        "    f : callable\n",
        "        The function to integrate. The function should take an x and y value (possibly arrays).\n",
        "    xrange : (float, float)\n",
        "        The min and max values for x, as an array\n",
        "    yrange : (float, float)\n",
        "        The min and max values for y, as an array\n",
        "    xN : int\n",
        "        The number of evaluations along x\n",
        "    yN : int\n",
        "        The number of evaluations along x\n",
        "\n",
        "    Returns\n",
        "    -------\n",
        "    float\n",
        "        The total integral\n",
        "    \n",
        "    '''\n",
        "    # If these are *not* arrays, convert them into arrays. Otherwise, leave them alone.\n",
        "    # (If we used np.array, we'd needlessly make a copy if it aready was an array)\n",
        "    xrange = np.asarray(xrange)\n",
        "    yrange = np.asarray(yrange)\n",
        "    \n",
        "    # There are N-1 \"bins\"\n",
        "    h = (xrange[1] - xrange[0])/(xN-1)\n",
        "    k = (yrange[1] - yrange[0])/(yN-1)\n",
        "    x = np.linspace(0, xrange[1], xN)\n",
        "    y = np.linspace(0, yrange[1], yN)\n",
        "    f = 3.6*x + 3.6*y\n",
        "    Wij = np.zeros((10,10))\n",
        "    row1 = np.array([1,2,2,2,2,2,2,2,2,1])\n",
        "    Wij = Wij + row1\n",
        "    suppij = np.array([[0,0,0,0,0,0,0,0,0,0],[1,2,2,2,2,2,2,2,2,1],[1,2,2,2,2,2,2,2,2,1],[1,2,2,2,2,2,2,2,2,1],[1,2,2,2,2,2,2,2,2,1],[1,2,2,2,2,2,2,2,2,1],[1,2,2,2,2,2,2,2,2,1],[1,2,2,2,2,2,2,2,2,1],[1,2,2,2,2,2,2,2,2,1],[0,0,0,0,0,0,0,0,0,0]])\n",
        "    Wij = Wij + suppij\n",
        "    print(Wij)\n",
        "    integral = (1/4)*h*k*np.sum(Wij*f)\n",
        "    print(integral)\n",
        "    integral = (1/4)*h*k*np.sum(np.sum(Wij*f))\n",
        "    print(integral)\n",
        "    integral = (1/4)*h*k*np.trapz(f)\n",
        "    print(h)\n",
        "    print(k)\n",
        "    print(integral)\n",
        "    return integral"
      ],
      "execution_count": 632,
      "outputs": []
    },
    {
      "cell_type": "markdown",
      "metadata": {
        "id": "WTJFUOFoGPg5"
      },
      "source": [
        "Feel free to add more tests, I'm adding the simplest one I can think of:"
      ]
    },
    {
      "cell_type": "code",
      "metadata": {
        "id": "1e_jrzDhGPg5"
      },
      "source": [
        "def f(x,y):\n",
        "    return 1"
      ],
      "execution_count": 633,
      "outputs": []
    },
    {
      "cell_type": "code",
      "metadata": {
        "id": "doyndnciGPg8",
        "outputId": "40bb4f18-052a-4479-9092-a7c5a2f5dd58",
        "colab": {
          "base_uri": "https://localhost:8080/",
          "height": 308
        }
      },
      "source": [
        "area = trap_2d(f, [0, 10], [0, 10], 10, 10)\n",
        "assert np.isclose(area, 100)\n",
        "print(np.isclose(area, 100))"
      ],
      "execution_count": 634,
      "outputs": [
        {
          "output_type": "stream",
          "text": [
            "[[1. 2. 2. 2. 2. 2. 2. 2. 2. 1.]\n",
            " [2. 4. 4. 4. 4. 4. 4. 4. 4. 2.]\n",
            " [2. 4. 4. 4. 4. 4. 4. 4. 4. 2.]\n",
            " [2. 4. 4. 4. 4. 4. 4. 4. 4. 2.]\n",
            " [2. 4. 4. 4. 4. 4. 4. 4. 4. 2.]\n",
            " [2. 4. 4. 4. 4. 4. 4. 4. 4. 2.]\n",
            " [2. 4. 4. 4. 4. 4. 4. 4. 4. 2.]\n",
            " [2. 4. 4. 4. 4. 4. 4. 4. 4. 2.]\n",
            " [2. 4. 4. 4. 4. 4. 4. 4. 4. 2.]\n",
            " [1. 2. 2. 2. 2. 2. 2. 2. 2. 1.]]\n",
            "3600.0000000000005\n",
            "3600.0000000000005\n",
            "1.1111111111111112\n",
            "1.1111111111111112\n",
            "100.00000000000001\n",
            "True\n"
          ],
          "name": "stdout"
        }
      ]
    },
    {
      "cell_type": "markdown",
      "metadata": {
        "id": "PJTkZ5tMGPg9"
      },
      "source": [
        "# Problem 2: MC integration\n",
        "\n",
        "Write a function that performs MC integration of an unknown function of N dimensions. You can use `f(*array)` to call the function with the correct number of arguments (it expands to `f(array[0], array[1], ..., array[N])`). Return **two** values; the estimated integral and the estimated error on the integral."
      ]
    },
    {
      "cell_type": "code",
      "metadata": {
        "id": "5vNlk7IjGPg-"
      },
      "source": [
        "def mc_integrate(f, N, samples, ranges):\n",
        "    '''\n",
        "    Integrate an ND function with a set of sampled MC points.\n",
        "    \n",
        "    Parameters\n",
        "    ----------\n",
        "    f : callable\n",
        "        The function to integrate. The function should take N\n",
        "        values (possibly equal length arrays).\n",
        "    N : int\n",
        "        The min and max values for x, as an array\n",
        "    samples : int\n",
        "        The number of samples to integrate over\n",
        "    ranges : array[2, N]\n",
        "        An array with the min and max for each dimension.\n",
        "\n",
        "    Returns\n",
        "    -------\n",
        "    float\n",
        "        The total integral\n",
        "    float\n",
        "        The estimated error = relative error * the total integral.\n",
        "    '''\n",
        "    \n",
        "    ranges = np.asarray(ranges) # Just making sure ranges is an array\n",
        "    \n",
        "    # Hint: You can turn a 1D array, such as arr = array([a, b]) into a 2D array\n",
        "    # with arr[:,np.newaxis] or arr[:,None] or arr.reshape(2,1) or arr.reshape(-1,1)\n",
        "    \n",
        "    # Our definition of ranges matches what you find in Scipy, and is natural to type,\n",
        "    # but is a but less natural to use, for example:\n",
        "    widths = ranges[:,1] + ranges[:,0]\n",
        "    \n",
        "    ..."
      ],
      "execution_count": null,
      "outputs": []
    },
    {
      "cell_type": "code",
      "metadata": {
        "id": "G_eOYWjAGPhA"
      },
      "source": [
        "def f(x,y):\n",
        "    return x + y"
      ],
      "execution_count": null,
      "outputs": []
    },
    {
      "cell_type": "code",
      "metadata": {
        "id": "X-ZtViYFGPhC"
      },
      "source": [
        "integral, error = mc_integrate(f, 2, 10_000, [[0,1],[0,1]])"
      ],
      "execution_count": null,
      "outputs": []
    },
    {
      "cell_type": "code",
      "metadata": {
        "id": "mkKqQwEpGPhD"
      },
      "source": [
        "print(integral, error)"
      ],
      "execution_count": null,
      "outputs": []
    },
    {
      "cell_type": "markdown",
      "metadata": {
        "id": "8g03ZgiwGPhF"
      },
      "source": [
        "#### For comparison, we could use NQuad from Scipy:"
      ]
    },
    {
      "cell_type": "code",
      "metadata": {
        "id": "1PLlJitSGPhF"
      },
      "source": [
        "from scipy import integrate"
      ],
      "execution_count": null,
      "outputs": []
    },
    {
      "cell_type": "code",
      "metadata": {
        "id": "Jab8HRCoGPhH"
      },
      "source": [
        "integrate.nquad(f, [[0,1],[0,1]])"
      ],
      "execution_count": null,
      "outputs": []
    },
    {
      "cell_type": "markdown",
      "metadata": {
        "id": "bV0J2Nj-GPhJ"
      },
      "source": [
        "# Problem 3: Second derivatives"
      ]
    },
    {
      "cell_type": "markdown",
      "metadata": {
        "id": "yIepXsSUGPhJ"
      },
      "source": [
        "Write a function that calculates:\n",
        "\n",
        "$$\n",
        "\\frac{d^2 f(t)}{dt^2} \\Biggr\\rvert_\\mathrm{cd}\n",
        "=\n",
        "\\frac{\n",
        "\\left[\n",
        "f(t + h) - f(t)\n",
        "\\right] - \\left[\n",
        "f(t) - f(t - h)\n",
        "\\right]\n",
        "}{h^2}\n",
        "$$\n",
        "\n",
        "(The notes in class had a typo, fixed here.) Write a nice docstring as well."
      ]
    },
    {
      "cell_type": "code",
      "metadata": {
        "id": "-uKBVIDuGPhJ"
      },
      "source": [
        "def d2fdt2(f, t, h):\n",
        "    '''...\n",
        "    '''\n",
        "    ..."
      ],
      "execution_count": null,
      "outputs": []
    },
    {
      "cell_type": "markdown",
      "metadata": {
        "id": "K89HKv-gGPhL"
      },
      "source": [
        "Test your `d2fdt2` function on a function that you know the derivative for."
      ]
    },
    {
      "cell_type": "code",
      "metadata": {
        "id": "64cZpWzWGPhL"
      },
      "source": [
        "..."
      ],
      "execution_count": null,
      "outputs": []
    }
  ]
}